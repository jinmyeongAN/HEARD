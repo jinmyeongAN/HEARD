{
 "cells": [
  {
   "cell_type": "code",
   "execution_count": 19,
   "metadata": {},
   "outputs": [
    {
     "name": "stdout",
     "output_type": "stream",
     "text": [
      "AAAAAAAAAAAAAAAAAAAAAPkEngEAAAAAsTORzbFjVvff5dzvOHC0IQf5PH4%3D0ZJc2jVQx1KP4phYLFji96QekFyOi8gLrWEpoIld7iAxj4VCJO\n"
     ]
    },
    {
     "ename": "Unauthorized",
     "evalue": "401 Unauthorized\nUnauthorized",
     "output_type": "error",
     "traceback": [
      "\u001b[0;31m---------------------------------------------------------------------------\u001b[0m",
      "\u001b[0;31mUnauthorized\u001b[0m                              Traceback (most recent call last)",
      "Cell \u001b[0;32mIn[19], line 6\u001b[0m\n\u001b[1;32m      4\u001b[0m client \u001b[39m=\u001b[39m tweepy\u001b[39m.\u001b[39mClient(bearer_token\u001b[39m=\u001b[39mbearer_token, consumer_key\u001b[39m=\u001b[39mconsumer_key, consumer_secret\u001b[39m=\u001b[39mconsumer_key_secret, access_token\u001b[39m=\u001b[39maccess_token, access_token_secret\u001b[39m=\u001b[39maccess_token_secret,)\n\u001b[1;32m      5\u001b[0m \u001b[39mprint\u001b[39m(bearer_token)\n\u001b[0;32m----> 6\u001b[0m client\u001b[39m.\u001b[39;49mcreate_tweet()\n",
      "File \u001b[0;32m~/anaconda3/envs/ecl/lib/python3.8/site-packages/tweepy/client.py:835\u001b[0m, in \u001b[0;36mClient.create_tweet\u001b[0;34m(self, direct_message_deep_link, for_super_followers_only, place_id, media_ids, media_tagged_user_ids, poll_duration_minutes, poll_options, quote_tweet_id, exclude_reply_user_ids, in_reply_to_tweet_id, reply_settings, text, user_auth)\u001b[0m\n\u001b[1;32m    832\u001b[0m \u001b[39mif\u001b[39;00m text \u001b[39mis\u001b[39;00m \u001b[39mnot\u001b[39;00m \u001b[39mNone\u001b[39;00m:\n\u001b[1;32m    833\u001b[0m     json[\u001b[39m\"\u001b[39m\u001b[39mtext\u001b[39m\u001b[39m\"\u001b[39m] \u001b[39m=\u001b[39m text\n\u001b[0;32m--> 835\u001b[0m \u001b[39mreturn\u001b[39;00m \u001b[39mself\u001b[39;49m\u001b[39m.\u001b[39;49m_make_request(\n\u001b[1;32m    836\u001b[0m     \u001b[39m\"\u001b[39;49m\u001b[39mPOST\u001b[39;49m\u001b[39m\"\u001b[39;49m, \u001b[39mf\u001b[39;49m\u001b[39m\"\u001b[39;49m\u001b[39m/2/tweets\u001b[39;49m\u001b[39m\"\u001b[39;49m, json\u001b[39m=\u001b[39;49mjson, user_auth\u001b[39m=\u001b[39;49muser_auth\n\u001b[1;32m    837\u001b[0m )\n",
      "File \u001b[0;32m~/anaconda3/envs/ecl/lib/python3.8/site-packages/tweepy/client.py:129\u001b[0m, in \u001b[0;36mBaseClient._make_request\u001b[0;34m(self, method, route, params, endpoint_parameters, json, data_type, user_auth)\u001b[0m\n\u001b[1;32m    123\u001b[0m \u001b[39mdef\u001b[39;00m \u001b[39m_make_request\u001b[39m(\n\u001b[1;32m    124\u001b[0m     \u001b[39mself\u001b[39m, method, route, params\u001b[39m=\u001b[39m{}, endpoint_parameters\u001b[39m=\u001b[39m(), json\u001b[39m=\u001b[39m\u001b[39mNone\u001b[39;00m,\n\u001b[1;32m    125\u001b[0m     data_type\u001b[39m=\u001b[39m\u001b[39mNone\u001b[39;00m, user_auth\u001b[39m=\u001b[39m\u001b[39mFalse\u001b[39;00m\n\u001b[1;32m    126\u001b[0m ):\n\u001b[1;32m    127\u001b[0m     request_params \u001b[39m=\u001b[39m \u001b[39mself\u001b[39m\u001b[39m.\u001b[39m_process_params(params, endpoint_parameters)\n\u001b[0;32m--> 129\u001b[0m     response \u001b[39m=\u001b[39m \u001b[39mself\u001b[39;49m\u001b[39m.\u001b[39;49mrequest(method, route, params\u001b[39m=\u001b[39;49mrequest_params,\n\u001b[1;32m    130\u001b[0m                             json\u001b[39m=\u001b[39;49mjson, user_auth\u001b[39m=\u001b[39;49muser_auth)\n\u001b[1;32m    132\u001b[0m     \u001b[39mif\u001b[39;00m \u001b[39mself\u001b[39m\u001b[39m.\u001b[39mreturn_type \u001b[39mis\u001b[39;00m requests\u001b[39m.\u001b[39mResponse:\n\u001b[1;32m    133\u001b[0m         \u001b[39mreturn\u001b[39;00m response\n",
      "File \u001b[0;32m~/anaconda3/envs/ecl/lib/python3.8/site-packages/tweepy/client.py:98\u001b[0m, in \u001b[0;36mBaseClient.request\u001b[0;34m(self, method, route, params, json, user_auth)\u001b[0m\n\u001b[1;32m     96\u001b[0m     \u001b[39mraise\u001b[39;00m BadRequest(response)\n\u001b[1;32m     97\u001b[0m \u001b[39mif\u001b[39;00m response\u001b[39m.\u001b[39mstatus_code \u001b[39m==\u001b[39m \u001b[39m401\u001b[39m:\n\u001b[0;32m---> 98\u001b[0m     \u001b[39mraise\u001b[39;00m Unauthorized(response)\n\u001b[1;32m     99\u001b[0m \u001b[39mif\u001b[39;00m response\u001b[39m.\u001b[39mstatus_code \u001b[39m==\u001b[39m \u001b[39m403\u001b[39m:\n\u001b[1;32m    100\u001b[0m     \u001b[39mraise\u001b[39;00m Forbidden(response)\n",
      "\u001b[0;31mUnauthorized\u001b[0m: 401 Unauthorized\nUnauthorized"
     ]
    }
   ],
   "source": [
    "import tweepy\n",
    "from utils.const import consumer_key, consumer_key_secret, access_token, access_token_secret, bearer_token\n",
    "\n",
    "client = tweepy.Client(bearer_token=bearer_token, consumer_key=consumer_key, consumer_secret=consumer_key_secret, access_token=access_token, access_token_secret=access_token_secret,)\n",
    "\n",
    "client.create_tweet()\n"
   ]
  }
 ],
 "metadata": {
  "kernelspec": {
   "display_name": "ERD",
   "language": "python",
   "name": "python3"
  },
  "language_info": {
   "codemirror_mode": {
    "name": "ipython",
    "version": 3
   },
   "file_extension": ".py",
   "mimetype": "text/x-python",
   "name": "python",
   "nbconvert_exporter": "python",
   "pygments_lexer": "ipython3",
   "version": "3.8.16"
  },
  "orig_nbformat": 4
 },
 "nbformat": 4,
 "nbformat_minor": 2
}
