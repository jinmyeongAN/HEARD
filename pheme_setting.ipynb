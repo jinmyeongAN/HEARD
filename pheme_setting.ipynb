{
 "cells": [
  {
   "cell_type": "code",
   "execution_count": 6,
   "metadata": {},
   "outputs": [
    {
     "data": {
      "text/plain": [
       "'/home/jinmyeong/code/HEARD'"
      ]
     },
     "execution_count": 6,
     "metadata": {},
     "output_type": "execute_result"
    }
   ],
   "source": [
    "import os\n",
    "\n",
    "PATH = '/home/jinmyeong/code/HEARD'\n",
    "os.chdir(PATH)\n",
    "\n",
    "os.getcwd()"
   ]
  },
  {
   "cell_type": "code",
   "execution_count": 7,
   "metadata": {},
   "outputs": [],
   "source": [
    "def erase_dot(file_list):\n",
    "    return [file for file in file_list if file[0] != '.']"
   ]
  },
  {
   "cell_type": "code",
   "execution_count": 8,
   "metadata": {},
   "outputs": [],
   "source": [
    "file_list = os.listdir('all-rnr-annotated-threads')\n",
    "\n",
    "file_list = [file for file in file_list if file[0] != '.']"
   ]
  },
  {
   "cell_type": "code",
   "execution_count": 9,
   "metadata": {},
   "outputs": [
    {
     "data": {
      "text/plain": [
       "['prince-toronto-all-rnr-threads',\n",
       " 'charliehebdo-all-rnr-threads',\n",
       " 'gurlitt-all-rnr-threads',\n",
       " 'ferguson-all-rnr-threads',\n",
       " 'ebola-essien-all-rnr-threads',\n",
       " 'ottawashooting-all-rnr-threads',\n",
       " 'putinmissing-all-rnr-threads',\n",
       " 'germanwings-crash-all-rnr-threads',\n",
       " 'sydneysiege-all-rnr-threads']"
      ]
     },
     "execution_count": 9,
     "metadata": {},
     "output_type": "execute_result"
    }
   ],
   "source": [
    "file_list"
   ]
  },
  {
   "cell_type": "code",
   "execution_count": 10,
   "metadata": {},
   "outputs": [],
   "source": [
    "import json\n",
    "\n",
    "def get_tweet(eid, path, is_source):\n",
    "    tweet_type = 'source-tweets' if is_source == True else 'reactions'\n",
    "    tweet_path = os.path.join(path, eid, tweet_type)\n",
    "\n",
    "    tweet_name_list = erase_dot(os.listdir(tweet_path))\n",
    "    tweet_obj = {}\n",
    "\n",
    "    for tweet_name in tweet_name_list:\n",
    "        tweet_name_path = os.path.join(tweet_path, tweet_name)\n",
    "        with open(tweet_name_path, 'r') as f:\n",
    "            tweet_json = json.load(f)\n",
    "\n",
    "        tweet_id, tweet_text, tweet_time = tweet_json['id'], tweet_json['text'], tweet_json[\"created_at\"]\n",
    "        tweet_obj[tweet_id] = {'text': tweet_text, 'time': tweet_time}\n",
    "    \n",
    "    return tweet_obj\n",
    "    pass"
   ]
  },
  {
   "cell_type": "code",
   "execution_count": 18,
   "metadata": {},
   "outputs": [],
   "source": [
    "data = {}\n",
    "idx = 0\n",
    "\n",
    "for event in file_list:\n",
    "    rumor_instances_path = os.path.join('all-rnr-annotated-threads', f\"{event}\", 'rumours')\n",
    "    non_rumor_instances_path = os.path.join('all-rnr-annotated-threads', f\"{event}\", 'non-rumours')\n",
    "\n",
    "    rumor_instances_list = erase_dot(os.listdir(rumor_instances_path)) # rumor_instances_list = [3241233, 4312134, 31244, ...]\n",
    "    non_rumor_instances_list = erase_dot(os.listdir(non_rumor_instances_path))\n",
    "\n",
    "    for eid in rumor_instances_list:\n",
    "        rumor_source = get_tweet(eid, path=rumor_instances_path, is_source=True) # rumor_source = {id0}\n",
    "        rumor_reaction = get_tweet(eid, path=rumor_instances_path,  is_source=False) # rumor_reaction = {id1, id2}\n",
    "\n",
    "        rumor_source.update(rumor_reaction)\n",
    "\n",
    "        info = rumor_source\n",
    "        label = 1\n",
    "\n",
    "        data[f\"eid{idx}\"] = {'label': label, 'info': info}\n",
    "        idx += 1\n",
    "\n",
    "    for eid in non_rumor_instances_list:\n",
    "        non_rumor_source = get_tweet(eid, path=non_rumor_instances_path, is_source=True) # non_rumor_source = {id0}\n",
    "        non_rumor_reaction = get_tweet(eid, path=non_rumor_instances_path,  is_source=False) # non_rumor_reaction = {id1, id2}\n",
    "\n",
    "\n",
    "        non_rumor_source.update(non_rumor_reaction)\n",
    "\n",
    "        info = non_rumor_source\n",
    "        label = 0\n",
    "\n",
    "        data[f\"eid{idx}\"] = {'label': label, 'info': info}\n",
    "        idx += 1\n"
   ]
  },
  {
   "cell_type": "code",
   "execution_count": 23,
   "metadata": {},
   "outputs": [
    {
     "data": {
      "text/plain": [
       "{'label': 1,\n",
       " 'info': {529692457337118721: {'text': 'Wish I was going to that secret concert that @3RDEYEGIRL and Prince are performing at @MassyHall in Toronto',\n",
       "   'time': 'Tue Nov 04 17:51:37 +0000 2014'}}}"
      ]
     },
     "execution_count": 23,
     "metadata": {},
     "output_type": "execute_result"
    }
   ],
   "source": [
    "data['eid20']"
   ]
  },
  {
   "cell_type": "code",
   "execution_count": null,
   "metadata": {},
   "outputs": [],
   "source": []
  }
 ],
 "metadata": {
  "kernelspec": {
   "display_name": "ecl",
   "language": "python",
   "name": "python3"
  },
  "language_info": {
   "codemirror_mode": {
    "name": "ipython",
    "version": 3
   },
   "file_extension": ".py",
   "mimetype": "text/x-python",
   "name": "python",
   "nbconvert_exporter": "python",
   "pygments_lexer": "ipython3",
   "version": "3.8.16"
  },
  "orig_nbformat": 4
 },
 "nbformat": 4,
 "nbformat_minor": 2
}
