{
 "cells": [
  {
   "cell_type": "code",
   "execution_count": 2,
   "metadata": {},
   "outputs": [
    {
     "name": "stderr",
     "output_type": "stream",
     "text": [
      "100%|██████████| 470/470 [00:00<00:00, 1370.42it/s]\n",
      "100%|██████████| 420/420 [00:00<00:00, 1443.10it/s]\n",
      "100%|██████████| 458/458 [00:00<00:00, 1257.33it/s]\n",
      "100%|██████████| 1621/1621 [00:01<00:00, 1050.78it/s]\n",
      "100%|██████████| 284/284 [00:00<00:00, 899.91it/s]\n",
      "100%|██████████| 859/859 [00:00<00:00, 954.53it/s]\n",
      "100%|██████████| 522/522 [00:00<00:00, 1203.43it/s]\n",
      "100%|██████████| 699/699 [00:00<00:00, 921.12it/s]\n",
      "100%|██████████| 238/238 [00:00<00:00, 1887.17it/s]\n",
      "100%|██████████| 231/231 [00:00<00:00, 2117.19it/s]\n",
      "100%|██████████| 5/5 [00:05<00:00,  1.04s/it]\n"
     ]
    }
   ],
   "source": [
    "from data_process import get_timeline, timeline_convert_merge_post, compute_tfidf\n",
    "from preprocess_pheme import preprocess_PHEME\n",
    "\n",
    "data = preprocess_PHEME()"
   ]
  },
  {
   "cell_type": "code",
   "execution_count": 3,
   "metadata": {},
   "outputs": [],
   "source": [
    "def add_timeline(data):\n",
    "    for eid, value in data.items():\n",
    "        info = data[eid]['info']\n",
    "        tids, timeline, texts = get_timeline(info=info)\n",
    "\n",
    "        data[eid]['timeline'] = timeline\n",
    "        data[eid]['texts'] = texts\n",
    "    return data"
   ]
  },
  {
   "cell_type": "code",
   "execution_count": 4,
   "metadata": {},
   "outputs": [
    {
     "ename": "AttributeError",
     "evalue": "'NoneType' object has no attribute 'items'",
     "output_type": "error",
     "traceback": [
      "\u001b[0;31m---------------------------------------------------------------------------\u001b[0m",
      "\u001b[0;31mAttributeError\u001b[0m                            Traceback (most recent call last)",
      "Cell \u001b[0;32mIn[4], line 1\u001b[0m\n\u001b[0;32m----> 1\u001b[0m data \u001b[39m=\u001b[39m add_timeline(data)\n",
      "Cell \u001b[0;32mIn[3], line 2\u001b[0m, in \u001b[0;36madd_timeline\u001b[0;34m(data)\u001b[0m\n\u001b[1;32m      1\u001b[0m \u001b[39mdef\u001b[39;00m \u001b[39madd_timeline\u001b[39m(data):\n\u001b[0;32m----> 2\u001b[0m     \u001b[39mfor\u001b[39;00m eid, value \u001b[39min\u001b[39;00m data\u001b[39m.\u001b[39;49mitems():\n\u001b[1;32m      3\u001b[0m         info \u001b[39m=\u001b[39m data[eid][\u001b[39m'\u001b[39m\u001b[39minfo\u001b[39m\u001b[39m'\u001b[39m]\n\u001b[1;32m      4\u001b[0m         tids, timeline, texts \u001b[39m=\u001b[39m get_timeline(info\u001b[39m=\u001b[39minfo)\n",
      "\u001b[0;31mAttributeError\u001b[0m: 'NoneType' object has no attribute 'items'"
     ]
    }
   ],
   "source": [
    "data = add_timeline(data)"
   ]
  },
  {
   "cell_type": "code",
   "execution_count": 1,
   "metadata": {},
   "outputs": [
    {
     "ename": "NameError",
     "evalue": "name 'data' is not defined",
     "output_type": "error",
     "traceback": [
      "\u001b[0;31m---------------------------------------------------------------------------\u001b[0m",
      "\u001b[0;31mNameError\u001b[0m                                 Traceback (most recent call last)",
      "Cell \u001b[0;32mIn[1], line 1\u001b[0m\n\u001b[0;32m----> 1\u001b[0m data\n",
      "\u001b[0;31mNameError\u001b[0m: name 'data' is not defined"
     ]
    }
   ],
   "source": [
    "data"
   ]
  },
  {
   "cell_type": "code",
   "execution_count": 27,
   "metadata": {},
   "outputs": [],
   "source": [
    "data = timeline_convert_merge_post(data)"
   ]
  },
  {
   "cell_type": "code",
   "execution_count": 28,
   "metadata": {},
   "outputs": [
    {
     "data": {
      "text/plain": [
       "{'eid0': {'label': 0,\n",
       "  'info': {'32143': {'text': 'text0', 'time': '01-07-15 11:07:51'},\n",
       "   '12343': {'text': 'text1', 'time': '01-07-15 11:09:51'}},\n",
       "  'timeline': ['01-07-15 11:07:51', '01-07-15 11:09:51'],\n",
       "  'texts': ['text0', 'text1'],\n",
       "  'merge_seqs': {'merge_times': [['01-07-15 11:07:51', '01-07-15 11:09:51']],\n",
       "   'merge_texts': [['text0', 'text1']]}},\n",
       " 'eid1': {'label': 0,\n",
       "  'info': {'34514': {'text': 'text2', 'time': '01-07-15 10:07:51'},\n",
       "   '321432': {'text': 'text3', 'time': '01-07-14 11:07:51'}},\n",
       "  'timeline': ['01-07-14 11:07:51', '01-07-15 10:07:51'],\n",
       "  'texts': ['text3', 'text2'],\n",
       "  'merge_seqs': {'merge_times': [['01-07-14 11:07:51', '01-07-15 10:07:51']],\n",
       "   'merge_texts': [['text3', 'text2']]}}}"
      ]
     },
     "execution_count": 28,
     "metadata": {},
     "output_type": "execute_result"
    }
   ],
   "source": [
    "data"
   ]
  },
  {
   "cell_type": "code",
   "execution_count": 29,
   "metadata": {},
   "outputs": [],
   "source": [
    "data = compute_tfidf(data)"
   ]
  },
  {
   "cell_type": "code",
   "execution_count": 30,
   "metadata": {},
   "outputs": [
    {
     "data": {
      "text/plain": [
       "{'eid0': {'label': 0,\n",
       "  'texts': ['text0', 'text1'],\n",
       "  'merge_seqs': {'merge_times': [['01-07-15 11:07:51', '01-07-15 11:09:51']],\n",
       "   'merge_texts': [['text0', 'text1']],\n",
       "   'merge_vecs': [[0.7071067811865476, 0.7071067811865476, 0.0, 0.0]]}},\n",
       " 'eid1': {'label': 0,\n",
       "  'texts': ['text3', 'text2'],\n",
       "  'merge_seqs': {'merge_times': [['01-07-14 11:07:51', '01-07-15 10:07:51']],\n",
       "   'merge_texts': [['text3', 'text2']],\n",
       "   'merge_vecs': [[0.0, 0.0, 0.7071067811865476, 0.7071067811865476]]}}}"
      ]
     },
     "execution_count": 30,
     "metadata": {},
     "output_type": "execute_result"
    }
   ],
   "source": [
    "data"
   ]
  },
  {
   "cell_type": "code",
   "execution_count": null,
   "metadata": {},
   "outputs": [],
   "source": []
  }
 ],
 "metadata": {
  "kernelspec": {
   "display_name": "ecl",
   "language": "python",
   "name": "python3"
  },
  "language_info": {
   "codemirror_mode": {
    "name": "ipython",
    "version": 3
   },
   "file_extension": ".py",
   "mimetype": "text/x-python",
   "name": "python",
   "nbconvert_exporter": "python",
   "pygments_lexer": "ipython3",
   "version": "3.8.16"
  },
  "orig_nbformat": 4
 },
 "nbformat": 4,
 "nbformat_minor": 2
}
